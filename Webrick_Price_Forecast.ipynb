{
  "nbformat": 4,
  "nbformat_minor": 0,
  "metadata": {
    "colab": {
      "private_outputs": true,
      "provenance": [],
      "authorship_tag": "ABX9TyNklQoDtXjax6HJYFI4CPWR",
      "include_colab_link": true
    },
    "kernelspec": {
      "name": "python3",
      "display_name": "Python 3"
    },
    "language_info": {
      "name": "python"
    }
  },
  "cells": [
    {
      "cell_type": "markdown",
      "metadata": {
        "id": "view-in-github",
        "colab_type": "text"
      },
      "source": [
        "<a href=\"https://colab.research.google.com/github/mhoangvslev/bricklink_tool_suites/blob/main/Webrick_Price_Forecast.ipynb\" target=\"_parent\"><img src=\"https://colab.research.google.com/assets/colab-badge.svg\" alt=\"Open In Colab\"/></a>"
      ]
    },
    {
      "cell_type": "code",
      "execution_count": null,
      "metadata": {
        "id": "Y9GdUQYwxccV"
      },
      "outputs": [],
      "source": [
        "#@title Put your wish list items in this dictionary using key=\"list name\", value=\"share link\"\n",
        "\n",
        "wishlist = {\n",
        "    \"AK-47\": \"https://www.webrick.com/wp_collection/share/xajmx14BjJMqhxLfBVcB4Psn2jj1uF1p/\",\n",
        "    \"Glock 17\": \"https://www.webrick.com/wp_collection/share/zGF5c2hvo9rOM8zbnIoydUgIn0BiiVue/\",\n",
        "    \"Steyer AUG (Scope &amp; Iron Sight)\": \"https://www.webrick.com/wp_collection/share/fJ2V62tz0vO7kMx94ifVjoijVN0Y8x55/\",\n",
        "    \"UMP-45\": \"https://www.webrick.com/wp_collection/share/QatSdUiTFPye7NGQo4EytgxPQxIOBhay/\",\n",
        "    \"L85A2\": \"https://www.webrick.com/wp_collection/share/x1MN6B9NOZnvrAWvcKNGQ0LiVTb8KfCY/\",\n",
        "    \"Red Dot Sight and Laser Sight\": \"https://www.webrick.com/wp_collection/share/mqTL21ZoxFKNi67T8bLyWZ8J0mRfcWqX/\",\n",
        "    \"MW2 PDSW 528\": \"https://www.webrick.com/wp_collection/share/J6J3Uhk4VXgZVugB1dhK7sJOjTyvbqSL/\",\n",
        "    \"MP5\": \"https://www.webrick.com/wp_collection/share/LLNNDEuTnmgdTLdYVVVvroUddjk5INSB/\"\n",
        "}"
      ]
    },
    {
      "cell_type": "code",
      "source": [
        "#@title Define useful functions\n",
        "\n",
        "import pandas as pd\n",
        "import re\n",
        "from bs4 import BeautifulSoup\n",
        "import requests\n",
        "\n",
        "def scrape(url):\n",
        "    page = requests.get(url)\n",
        "    soup = BeautifulSoup(page.text, 'lxml')\n",
        "    soup\n",
        "\n",
        "    table = soup.find(\"form\", id=\"wishlist-view-form\").find(\"table\")\n",
        "    headers = []\n",
        "    for col in table.find_all(\"th\"):\n",
        "        headers.append(col.text.strip())\n",
        "\n",
        "    headers.append(\"Availability\")\n",
        "    headers[1] = \"Item\"\n",
        "\n",
        "    data = pd.DataFrame(columns = headers)\n",
        "    avail = None\n",
        "    for table_row in table.find_all(\"tr\")[1:]:\n",
        "\n",
        "        row = []\n",
        "        for col in table_row.find_all(\"td\"):\n",
        "            data_text = col.text.strip()\n",
        "\n",
        "            qty = col.find(\"input\", class_=\"input-text qty\")\n",
        "            if qty is not None:\n",
        "                stock = col.find(\"span\", class_=\"stock-value\")\n",
        "                if stock is not None:\n",
        "                    stock = re.sub(r\"Stock: (\\d+)\", r\"\\1\", stock.text)\n",
        "                else:\n",
        "                    stock = 0\n",
        "                qty_value = qty.get(\"value\")\n",
        "                data_text = f\"{qty_value}/{stock}\"\n",
        "\n",
        "            col_attrs = col.attrs.get(\"class\")\n",
        "            if col_attrs is not None and (\"unit-price\" in col_attrs or \"total-price\" in col_attrs):\n",
        "                data_text = re.sub(r\"USD (\\d+)\", r\"\\1\", data_text)\n",
        "\n",
        "            row.append(data_text)\n",
        "\n",
        "        length = len(data)\n",
        "        if len(row) == 2:\n",
        "            avail = row[1]\n",
        "            continue\n",
        "        elif len(row) != len(headers) - 1:\n",
        "            continue\n",
        "        else:\n",
        "            row.append(avail)\n",
        "            data.loc[length] = row\n",
        "\n",
        "    data[\"Item\"] = data[\"Item\"].apply(lambda x: re.sub(r\"(.*#\\d+)\\s+Part ID\\s+(\\d+)\\s+Color ID\\s+(\\d+)\\-(.*)\\s+Brick Source\\s+(.*)Default\\s+Quantity\\s+1 piece\", r\"\\1;\\2;\\3;\\4\", x).strip())\n",
        "    data[[\"Part Name\", \"PartId\", \"ColorId\", \"Color Name\"]] = data[\"Item\"].str.split(r\";\", regex=True, expand=True)\n",
        "    data[[\"Quantity\", \"Stock\"]] = data[\"Qty\"].str.split(\"/\", expand=True)\n",
        "    data.drop([\"Item\", \"Qty\"], axis=1, inplace=True)\n",
        "    return data"
      ],
      "metadata": {
        "id": "yI9tZ41_ystr"
      },
      "execution_count": null,
      "outputs": []
    },
    {
      "cell_type": "code",
      "source": [
        "#@title Run this cell every 15 minutes\n",
        "\n",
        "from tqdm import tqdm\n",
        "import time\n",
        "\n",
        "datetime_object = time.time()\n",
        "timestr = time.strftime(\"%Y%m%d-%H%M%S\")\n",
        "timestr2 = time.strftime(\"%m/%d/%y %H:%M:%S\")\n",
        "all_data = []\n",
        "for set_name, set_url in tqdm(wishlist.items()):\n",
        "    set_data = scrape(set_url)\n",
        "    set_data[\"Project Name\"] = set_name\n",
        "    set_data[\"Time\"] = timestr2\n",
        "    all_data.append(set_data)\n",
        "\n",
        "import time\n",
        "pd.concat(all_data, axis=0).to_csv(f\"{timestr}.csv\", index=False)"
      ],
      "metadata": {
        "id": "0ZMYw-kGNeu2"
      },
      "execution_count": null,
      "outputs": []
    },
    {
      "cell_type": "code",
      "source": [
        "#@title At the end of the iteration, run this cell once\n",
        "#@markdown Then upload it to https://giandata-forecast-app-forecastapp-6kanta.streamlit.app/\n",
        "\n",
        "import glob\n",
        "pd.concat(glob.glob(\"*.csv\"), axis=0).to_csv(f\"webrick_forecast.csv\", index=False)"
      ],
      "metadata": {
        "cellView": "form",
        "id": "sa3l_V4EeOBU"
      },
      "execution_count": null,
      "outputs": []
    }
  ]
}