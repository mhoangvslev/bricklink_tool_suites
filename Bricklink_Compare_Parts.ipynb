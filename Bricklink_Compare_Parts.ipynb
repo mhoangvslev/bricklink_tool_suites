{
  "nbformat": 4,
  "nbformat_minor": 0,
  "metadata": {
    "colab": {
      "private_outputs": true,
      "provenance": [],
      "authorship_tag": "ABX9TyN2oa1ncTHQvoVG/0zLqAuV",
      "include_colab_link": true
    },
    "kernelspec": {
      "name": "python3",
      "display_name": "Python 3"
    },
    "language_info": {
      "name": "python"
    }
  },
  "cells": [
    {
      "cell_type": "markdown",
      "metadata": {
        "id": "view-in-github",
        "colab_type": "text"
      },
      "source": [
        "<a href=\"https://colab.research.google.com/github/mhoangvslev/bricklink_tool_suites/blob/main/Bricklink_Compare_Parts.ipynb\" target=\"_parent\"><img src=\"https://colab.research.google.com/assets/colab-badge.svg\" alt=\"Open In Colab\"/></a>"
      ]
    },
    {
      "cell_type": "code",
      "execution_count": null,
      "metadata": {
        "id": "G393iJSXuyFd"
      },
      "outputs": [],
      "source": [
        "import pandas as pd\n",
        "\n",
        "deagle_v1 = pd.read_xml(\"Desert Eagle v1.xml\")\n",
        "deagle_v2 = pd.read_xml(\"Desert Eagle v2.xml\")"
      ]
    },
    {
      "cell_type": "markdown",
      "source": [
        "# A litte bit of cleaning"
      ],
      "metadata": {
        "id": "ucby-oMx4GgK"
      }
    },
    {
      "cell_type": "code",
      "source": [
        "deagle_v1['ITEMID'] = deagle_v1['ITEMID'].astype(str)\n",
        "deagle_v1"
      ],
      "metadata": {
        "id": "FJ9KhOYyvjzX"
      },
      "execution_count": null,
      "outputs": []
    },
    {
      "cell_type": "code",
      "source": [
        "deagle_v2['ITEMID'] = deagle_v2['ITEMID'].astype(str)\n",
        "deagle_v2"
      ],
      "metadata": {
        "id": "xzNI-vRIvy7r"
      },
      "execution_count": null,
      "outputs": []
    },
    {
      "cell_type": "code",
      "source": [
        "merged_df = deagle_v1.merge(deagle_v2, on=[\"ITEMID\", \"COLOR\"], how=\"right\", suffixes=[\"_v1\", \"_v2\"])#.dropna()\n",
        "merged_df"
      ],
      "metadata": {
        "id": "vifbA5bwv8K7"
      },
      "execution_count": null,
      "outputs": []
    },
    {
      "cell_type": "code",
      "source": [
        "#@title Get all the parts that are not in v1\n",
        "new_parts = merged_df[merged_df['ITEMTYPE_v1'].isnull()]\n"
      ],
      "metadata": {
        "id": "Q0HIHe_W1XDa"
      },
      "execution_count": null,
      "outputs": []
    },
    {
      "cell_type": "code",
      "source": [
        "#@title Get the difference in quantity for parts that are present in both but with greater quantity in v2\n",
        "\n",
        "# Filter the rows where the MINQTY in list B is greater than MINQTY in list A\n",
        "extra_parts = merged_df[merged_df['MINQTY_v2'] > merged_df['MINQTY_v1']]\n",
        "\n",
        "# One might only want to order the extra parts only\n",
        "extra_parts[\"MINQTY\"] = (extra_parts[\"MINQTY_v2\"] - extra_parts[\"MINQTY_v1\"]).astype(int)\n",
        "extra_parts"
      ],
      "metadata": {
        "id": "KWWvzT2E0NHS"
      },
      "execution_count": null,
      "outputs": []
    },
    {
      "cell_type": "code",
      "source": [
        "new_order = pd.concat([new_parts, extra_parts], ignore_index=True)\n",
        "new_order['MINQTY'] = new_order['MINQTY'].fillna(new_order['MINQTY_v2']).astype(int)\n",
        "# Drop columns with suffix \"_v1\"\n",
        "new_order = new_order.filter(regex=r'^(?!.*_v1$)')\n",
        "\n",
        "# Remove suffix \"_v2\" from column names\n",
        "new_order.drop('MINQTY_v2', axis=1, inplace=True)\n",
        "new_order.columns = new_order.columns.str.replace(r'_v2$', '', regex=True)\n",
        "new_order"
      ],
      "metadata": {
        "id": "AYUau_NS4t1p"
      },
      "execution_count": null,
      "outputs": []
    },
    {
      "cell_type": "code",
      "source": [
        "xml_output = new_order.to_xml(root_name='INVENTORY', row_name=\"ITEM\", prefix=None, xml_declaration=True, index=False)\n",
        "# Write the XML data to a file\n",
        "with open('new_order.xml', 'w') as file:\n",
        "    file.write(xml_output)"
      ],
      "metadata": {
        "id": "1swheCFT5Gyy"
      },
      "execution_count": null,
      "outputs": []
    }
  ]
}